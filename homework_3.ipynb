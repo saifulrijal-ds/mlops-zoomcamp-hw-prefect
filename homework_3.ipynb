{
 "cells": [
  {
   "attachments": {},
   "cell_type": "markdown",
   "metadata": {},
   "source": [
    "For this tasks I first run MLflow server in my working directory\n",
    "\n",
    "```bash\n",
    "mlflow ui --backend-store-ui sqlite:///mlflow.db\n",
    "```\n",
    "\n",
    "and run Prefect server\n",
    "\n",
    "```bash\n",
    "prefect server start\n",
    "```"
   ]
  },
  {
   "attachments": {},
   "cell_type": "markdown",
   "metadata": {},
   "source": [
    "Download the data."
   ]
  },
  {
   "cell_type": "code",
   "execution_count": 1,
   "metadata": {},
   "outputs": [
    {
     "name": "stdout",
     "output_type": "stream",
     "text": [
      "green_tripdata_2021-01.parquet\n",
      "green_tripdata_2021-02.parquet\n"
     ]
    }
   ],
   "source": [
    "import os\n",
    "import requests\n",
    "\n",
    "url_list = [\n",
    "    \"https://d37ci6vzurychx.cloudfront.net/trip-data/green_tripdata_2021-01.parquet\",\n",
    "    \"https://d37ci6vzurychx.cloudfront.net/trip-data/green_tripdata_2021-02.parquet\"\n",
    "]\n",
    "data_path = \"data/\"\n",
    "\n",
    "if not os.path.exists(data_path):\n",
    "    os.makedirs(data_path)\n",
    "\n",
    "for url in url_list:\n",
    "    filename = url.split('/')[-1]\n",
    "    print(filename)\n",
    "    if not os.path.exists(data_path + filename):\n",
    "        with open(data_path + filename, 'wb') as f:\n",
    "            response = requests.get(url)\n",
    "            f.write(response.content)\n",
    "    else:\n",
    "        print(filename, \"already exists\")\n"
   ]
  },
  {
   "attachments": {},
   "cell_type": "markdown",
   "metadata": {},
   "source": [
    "**In the development stage**, all you need to do is run the .py file which contains the defined tasks and flows."
   ]
  },
  {
   "cell_type": "code",
   "execution_count": 2,
   "metadata": {},
   "outputs": [
    {
     "data": {
      "text/html": [
       "<pre style=\"white-space:pre;overflow-x:auto;line-height:normal;font-family:Menlo,'DejaVu Sans Mono',consolas,'Courier New',monospace\">21:09:06.994 | <span style=\"color: #008080; text-decoration-color: #008080\">INFO</span>    | prefect.engine - Created flow run<span style=\"color: #800080; text-decoration-color: #800080\"> 'smooth-buzzard'</span> for flow<span style=\"color: #800080; text-decoration-color: #800080; font-weight: bold\"> 'main-flow'</span>\n",
       "</pre>\n"
      ],
      "text/plain": [
       "21:09:06.994 | \u001b[36mINFO\u001b[0m    | prefect.engine - Created flow run\u001b[35m 'smooth-buzzard'\u001b[0m for flow\u001b[1;35m 'main-flow'\u001b[0m\n"
      ]
     },
     "metadata": {},
     "output_type": "display_data"
    },
    {
     "data": {
      "text/html": [
       "<pre style=\"white-space:pre;overflow-x:auto;line-height:normal;font-family:Menlo,'DejaVu Sans Mono',consolas,'Courier New',monospace\">21:09:07.041 | <span style=\"color: #008080; text-decoration-color: #008080\">INFO</span>    | Flow run<span style=\"color: #800080; text-decoration-color: #800080\"> 'smooth-buzzard'</span> - View at <span style=\"color: #0000ff; text-decoration-color: #0000ff\">http://127.0.0.1:4200/flow-runs/flow-run/7cd0a852-2133-4189-a486-6c8e5ebdc933</span>\n",
       "</pre>\n"
      ],
      "text/plain": [
       "21:09:07.041 | \u001b[36mINFO\u001b[0m    | Flow run\u001b[35m 'smooth-buzzard'\u001b[0m - View at \u001b[94mhttp://127.0.0.1:4200/flow-runs/flow-run/7cd0a852-2133-4189-a486-6c8e5ebdc933\u001b[0m\n"
      ]
     },
     "metadata": {},
     "output_type": "display_data"
    },
    {
     "name": "stderr",
     "output_type": "stream",
     "text": [
      "2023/06/11 21:09:18 INFO mlflow.store.db.utils: Creating initial MLflow database tables...\n",
      "2023/06/11 21:09:18 INFO mlflow.store.db.utils: Updating database tables\n",
      "INFO  [alembic.runtime.migration] Context impl SQLiteImpl.\n",
      "INFO  [alembic.runtime.migration] Will assume non-transactional DDL.\n",
      "INFO  [alembic.runtime.migration] Context impl SQLiteImpl.\n",
      "INFO  [alembic.runtime.migration] Will assume non-transactional DDL.\n",
      "2023/06/11 21:09:20 INFO mlflow.tracking.fluent: Experiment with name 'nyc-taxi-experiment' does not exist. Creating a new experiment.\n",
      "INFO  [prefect.flow_runs] Created task run 'Read taxi data-0' for task 'Read taxi data'\n",
      "INFO  [prefect.flow_runs] Executing 'Read taxi data-0' immediately...\n",
      "INFO  [prefect.task_runs] Finished in state Completed()\n",
      "INFO  [prefect.flow_runs] Created task run 'Read taxi data-1' for task 'Read taxi data'\n",
      "INFO  [prefect.flow_runs] Executing 'Read taxi data-1' immediately...\n",
      "INFO  [prefect.task_runs] Finished in state Completed()\n",
      "INFO  [prefect.flow_runs] Created task run 'Extract the features-0' for task 'Extract the features'\n",
      "INFO  [prefect.flow_runs] Executing 'Extract the features-0' immediately...\n",
      "INFO  [prefect.task_runs] Finished in state Completed()\n",
      "INFO  [prefect.flow_runs] Created task run 'Train the model-0' for task 'Train the model'\n",
      "INFO  [prefect.flow_runs] Executing 'Train the model-0' immediately...\n",
      "INFO  [prefect.task_runs] [0]\tvalidation-rmse:19.48425\n",
      "INFO  [prefect.task_runs] [1]\tvalidation-rmse:17.95635\n",
      "INFO  [prefect.task_runs] [2]\tvalidation-rmse:16.59103\n",
      "INFO  [prefect.task_runs] [3]\tvalidation-rmse:15.37412\n",
      "INFO  [prefect.task_runs] [4]\tvalidation-rmse:14.29029\n",
      "INFO  [prefect.task_runs] [5]\tvalidation-rmse:13.32807\n",
      "INFO  [prefect.task_runs] [6]\tvalidation-rmse:12.47571\n",
      "INFO  [prefect.task_runs] [7]\tvalidation-rmse:11.72138\n",
      "INFO  [prefect.task_runs] [8]\tvalidation-rmse:11.05825\n",
      "INFO  [prefect.task_runs] [9]\tvalidation-rmse:10.47535\n",
      "INFO  [prefect.task_runs] [10]\tvalidation-rmse:9.96449\n",
      "INFO  [prefect.task_runs] [11]\tvalidation-rmse:9.51756\n",
      "INFO  [prefect.task_runs] [12]\tvalidation-rmse:9.12641\n",
      "INFO  [prefect.task_runs] [13]\tvalidation-rmse:8.78569\n",
      "INFO  [prefect.task_runs] [14]\tvalidation-rmse:8.49089\n",
      "INFO  [prefect.task_runs] [15]\tvalidation-rmse:8.23445\n",
      "INFO  [prefect.task_runs] [16]\tvalidation-rmse:8.01207\n",
      "INFO  [prefect.task_runs] [17]\tvalidation-rmse:7.81886\n",
      "INFO  [prefect.task_runs] [18]\tvalidation-rmse:7.65169\n",
      "INFO  [prefect.task_runs] [19]\tvalidation-rmse:7.50672\n",
      "INFO  [prefect.task_runs] [20]\tvalidation-rmse:7.38153\n",
      "INFO  [prefect.task_runs] [21]\tvalidation-rmse:7.27299\n",
      "INFO  [prefect.task_runs] [22]\tvalidation-rmse:7.17863\n",
      "INFO  [prefect.task_runs] [23]\tvalidation-rmse:7.09718\n",
      "INFO  [prefect.task_runs] [24]\tvalidation-rmse:7.02603\n",
      "INFO  [prefect.task_runs] [25]\tvalidation-rmse:6.96344\n",
      "INFO  [prefect.task_runs] [26]\tvalidation-rmse:6.90935\n",
      "INFO  [prefect.task_runs] [27]\tvalidation-rmse:6.86285\n",
      "INFO  [prefect.task_runs] [28]\tvalidation-rmse:6.82157\n",
      "INFO  [prefect.task_runs] [29]\tvalidation-rmse:6.78486\n",
      "INFO  [prefect.task_runs] [30]\tvalidation-rmse:6.75283\n",
      "INFO  [prefect.task_runs] [31]\tvalidation-rmse:6.72433\n",
      "INFO  [prefect.task_runs] [32]\tvalidation-rmse:6.69838\n",
      "INFO  [prefect.task_runs] [33]\tvalidation-rmse:6.67599\n",
      "INFO  [prefect.task_runs] [34]\tvalidation-rmse:6.65632\n",
      "INFO  [prefect.task_runs] [35]\tvalidation-rmse:6.63968\n",
      "INFO  [prefect.task_runs] [36]\tvalidation-rmse:6.62456\n",
      "INFO  [prefect.task_runs] [37]\tvalidation-rmse:6.61030\n",
      "INFO  [prefect.task_runs] [38]\tvalidation-rmse:6.59833\n",
      "INFO  [prefect.task_runs] [39]\tvalidation-rmse:6.58671\n",
      "INFO  [prefect.task_runs] [40]\tvalidation-rmse:6.57678\n",
      "INFO  [prefect.task_runs] [41]\tvalidation-rmse:6.56792\n",
      "INFO  [prefect.task_runs] [42]\tvalidation-rmse:6.56024\n",
      "INFO  [prefect.task_runs] [43]\tvalidation-rmse:6.55307\n",
      "INFO  [prefect.task_runs] [44]\tvalidation-rmse:6.54644\n",
      "INFO  [prefect.task_runs] [45]\tvalidation-rmse:6.54087\n",
      "INFO  [prefect.task_runs] [46]\tvalidation-rmse:6.53587\n",
      "INFO  [prefect.task_runs] [47]\tvalidation-rmse:6.53128\n",
      "INFO  [prefect.task_runs] [48]\tvalidation-rmse:6.52719\n",
      "INFO  [prefect.task_runs] [49]\tvalidation-rmse:6.52427\n",
      "INFO  [prefect.task_runs] [50]\tvalidation-rmse:6.52098\n",
      "INFO  [prefect.task_runs] [51]\tvalidation-rmse:6.51875\n",
      "INFO  [prefect.task_runs] [52]\tvalidation-rmse:6.51547\n",
      "INFO  [prefect.task_runs] [53]\tvalidation-rmse:6.51333\n",
      "INFO  [prefect.task_runs] [54]\tvalidation-rmse:6.51034\n",
      "INFO  [prefect.task_runs] [55]\tvalidation-rmse:6.50826\n",
      "INFO  [prefect.task_runs] [56]\tvalidation-rmse:6.50668\n",
      "INFO  [prefect.task_runs] [57]\tvalidation-rmse:6.50477\n",
      "INFO  [prefect.task_runs] [58]\tvalidation-rmse:6.50288\n",
      "INFO  [prefect.task_runs] [59]\tvalidation-rmse:6.50114\n",
      "INFO  [prefect.task_runs] [60]\tvalidation-rmse:6.49931\n",
      "INFO  [prefect.task_runs] [61]\tvalidation-rmse:6.49758\n",
      "INFO  [prefect.task_runs] [62]\tvalidation-rmse:6.49577\n",
      "INFO  [prefect.task_runs] [63]\tvalidation-rmse:6.49364\n",
      "INFO  [prefect.task_runs] [64]\tvalidation-rmse:6.49179\n",
      "INFO  [prefect.task_runs] [65]\tvalidation-rmse:6.49031\n",
      "INFO  [prefect.task_runs] [66]\tvalidation-rmse:6.48955\n",
      "INFO  [prefect.task_runs] [67]\tvalidation-rmse:6.48814\n",
      "INFO  [prefect.task_runs] [68]\tvalidation-rmse:6.48684\n",
      "INFO  [prefect.task_runs] [69]\tvalidation-rmse:6.48526\n",
      "INFO  [prefect.task_runs] [70]\tvalidation-rmse:6.48384\n",
      "INFO  [prefect.task_runs] [71]\tvalidation-rmse:6.48249\n",
      "INFO  [prefect.task_runs] [72]\tvalidation-rmse:6.48180\n",
      "INFO  [prefect.task_runs] [73]\tvalidation-rmse:6.48127\n",
      "INFO  [prefect.task_runs] [74]\tvalidation-rmse:6.48053\n",
      "INFO  [prefect.task_runs] [75]\tvalidation-rmse:6.47965\n",
      "INFO  [prefect.task_runs] [76]\tvalidation-rmse:6.47878\n",
      "INFO  [prefect.task_runs] [77]\tvalidation-rmse:6.47808\n",
      "INFO  [prefect.task_runs] [78]\tvalidation-rmse:6.47695\n",
      "INFO  [prefect.task_runs] [79]\tvalidation-rmse:6.47605\n",
      "INFO  [prefect.task_runs] [80]\tvalidation-rmse:6.47528\n",
      "INFO  [prefect.task_runs] [81]\tvalidation-rmse:6.47416\n",
      "INFO  [prefect.task_runs] [82]\tvalidation-rmse:6.47331\n",
      "INFO  [prefect.task_runs] [83]\tvalidation-rmse:6.47237\n",
      "INFO  [prefect.task_runs] [84]\tvalidation-rmse:6.47146\n",
      "INFO  [prefect.task_runs] [85]\tvalidation-rmse:6.47022\n",
      "INFO  [prefect.task_runs] [86]\tvalidation-rmse:6.46934\n",
      "INFO  [prefect.task_runs] [87]\tvalidation-rmse:6.46830\n",
      "INFO  [prefect.task_runs] [88]\tvalidation-rmse:6.46799\n",
      "INFO  [prefect.task_runs] [89]\tvalidation-rmse:6.46740\n",
      "INFO  [prefect.task_runs] [90]\tvalidation-rmse:6.46645\n",
      "INFO  [prefect.task_runs] [91]\tvalidation-rmse:6.46556\n",
      "INFO  [prefect.task_runs] [92]\tvalidation-rmse:6.46451\n",
      "INFO  [prefect.task_runs] [93]\tvalidation-rmse:6.46355\n",
      "INFO  [prefect.task_runs] [94]\tvalidation-rmse:6.46222\n",
      "INFO  [prefect.task_runs] [95]\tvalidation-rmse:6.46134\n",
      "INFO  [prefect.task_runs] [96]\tvalidation-rmse:6.46099\n",
      "INFO  [prefect.task_runs] [97]\tvalidation-rmse:6.46062\n",
      "INFO  [prefect.task_runs] [98]\tvalidation-rmse:6.46009\n",
      "INFO  [prefect.task_runs] [99]\tvalidation-rmse:6.45985\n",
      "c:\\Users\\ASUS\\anaconda3\\envs\\mlops_env\\lib\\site-packages\\_distutils_hack\\__init__.py:33: UserWarning: Setuptools is replacing distutils.\n",
      "  warnings.warn(\"Setuptools is replacing distutils.\")\n",
      "INFO  [prefect.task_runs] Finished in state Completed()\n",
      "INFO  [prefect.flow_runs] Finished in state Completed('All states completed.')\n"
     ]
    }
   ],
   "source": [
    "%run orchestrate.py"
   ]
  },
  {
   "attachments": {},
   "cell_type": "markdown",
   "metadata": {},
   "source": [
    "### Q1. Human-readable name"
   ]
  },
  {
   "attachments": {},
   "cell_type": "markdown",
   "metadata": {},
   "source": [
    "Add `name` parameter to task decorator, [docs](https://docs.prefect.io/2.10.13/concepts/tasks/#:~:text=Description-,name,not%20provided%2C%20the%20name%20will%20be%20inferred%20from%20the%20function%20name.,-description).  \n",
    "The name of task will be displayed in here."
   ]
  },
  {
   "attachments": {},
   "cell_type": "markdown",
   "metadata": {},
   "source": [
    "![Name of task](<images/Cuplikan layar 2023-06-11 215552.png>)"
   ]
  },
  {
   "attachments": {},
   "cell_type": "markdown",
   "metadata": {},
   "source": [
    "**For Deployment stage**, \n",
    "1. *Initiate the Prefect project* with run the command\n",
    "```bash\n",
    "prefect project init\n",
    "```\n",
    "2. *Deploy the flow* with run the command\n",
    "```bash\n",
    "prefect deploy orchestrate.py:main_flow -n hw_taxi1 -p zoomcamppool\n",
    "```\n",
    "3. *Start the worker*\n",
    "```bash\n",
    "prefect worker start -p zoomcamppool\n",
    "```\n",
    "4. *Run the flow*\n",
    "```bash\n",
    "prefect deployment run main-flow/hw_taxi1\n",
    "```"
   ]
  },
  {
   "attachments": {},
   "cell_type": "markdown",
   "metadata": {},
   "source": [
    "### Q2. Cron"
   ]
  },
  {
   "attachments": {},
   "cell_type": "markdown",
   "metadata": {},
   "source": [
    "\n",
    "5. To set the schedule\n",
    "```bash\n",
    "prefect deployment set-schedule --cron \"0 9 3 * *\" main-flow/hw_taxi1\n",
    "```"
   ]
  },
  {
   "attachments": {
    "Cuplikan layar 2023-06-11 234044.png": {
     "image/png": "[encoded data removed]"
    }
   },
   "cell_type": "markdown",
   "metadata": {},
   "source": [
    "![Alt text](<images/Cuplikan layar 2023-06-11 234044.png>)\n",
    "![Cuplikan layar 2023-06-11 234044.png](<attachment:Cuplikan layar 2023-06-11 234044.png>)"
   ]
  },
  {
   "attachments": {},
   "cell_type": "markdown",
   "metadata": {},
   "source": [
    "### Q3. RMSE"
   ]
  },
  {
   "cell_type": "code",
   "execution_count": 2,
   "metadata": {},
   "outputs": [
    {
     "name": "stdout",
     "output_type": "stream",
     "text": [
      "green_tripdata_2023-01.parquet\n",
      "green_tripdata_2023-02.parquet\n"
     ]
    }
   ],
   "source": [
    "import os\n",
    "import requests\n",
    "\n",
    "url_list = [\n",
    "    \"https://d37ci6vzurychx.cloudfront.net/trip-data/green_tripdata_2023-01.parquet\",\n",
    "    \"https://d37ci6vzurychx.cloudfront.net/trip-data/green_tripdata_2023-02.parquet\"\n",
    "]\n",
    "data_path = \"data/\"\n",
    "\n",
    "if not os.path.exists(data_path):\n",
    "    os.makedirs(data_path)\n",
    "\n",
    "for url in url_list:\n",
    "    filename = url.split('/')[-1]\n",
    "    print(filename)\n",
    "    if not os.path.exists(data_path + filename):\n",
    "        with open(data_path + filename, 'wb') as f:\n",
    "            response = requests.get(url)\n",
    "            f.write(response.content)\n",
    "    else:\n",
    "        print(filename, \"already exists\")"
   ]
  },
  {
   "attachments": {},
   "cell_type": "markdown",
   "metadata": {},
   "source": [
    "![Alt text](<images/Cuplikan layar 2023-06-11 235910.png>)"
   ]
  },
  {
   "attachments": {},
   "cell_type": "markdown",
   "metadata": {},
   "source": [
    "![Alt text](<images/Cuplikan layar 2023-06-12 000023.png>)"
   ]
  },
  {
   "attachments": {},
   "cell_type": "markdown",
   "metadata": {},
   "source": [
    "The last validation RMSE is 5.19931."
   ]
  },
  {
   "attachments": {},
   "cell_type": "markdown",
   "metadata": {},
   "source": [
    "### Q4. RMSE (Markdown Artifact)\n"
   ]
  },
  {
   "cell_type": "code",
   "execution_count": 3,
   "metadata": {},
   "outputs": [
    {
     "name": "stdout",
     "output_type": "stream",
     "text": [
      "green_tripdata_2023-03.parquet\n",
      "green_tripdata_2023-02.parquet\n",
      "green_tripdata_2023-02.parquet already exists\n"
     ]
    }
   ],
   "source": [
    "url_list = [\n",
    "    \"https://d37ci6vzurychx.cloudfront.net/trip-data/green_tripdata_2023-03.parquet\",\n",
    "    \"https://d37ci6vzurychx.cloudfront.net/trip-data/green_tripdata_2023-02.parquet\"\n",
    "]\n",
    "data_path = \"data/\"\n",
    "\n",
    "if not os.path.exists(data_path):\n",
    "    os.makedirs(data_path)\n",
    "\n",
    "for url in url_list:\n",
    "    filename = url.split('/')[-1]\n",
    "    print(filename)\n",
    "    if not os.path.exists(data_path + filename):\n",
    "        with open(data_path + filename, 'wb') as f:\n",
    "            response = requests.get(url)\n",
    "            f.write(response.content)\n",
    "    else:\n",
    "        print(filename, \"already exists\")"
   ]
  },
  {
   "attachments": {},
   "cell_type": "markdown",
   "metadata": {},
   "source": [
    "![Alt text](<images/Cuplikan layar 2023-06-12 013325.png>)"
   ]
  },
  {
   "attachments": {},
   "cell_type": "markdown",
   "metadata": {},
   "source": [
    "### Q5. Emails"
   ]
  },
  {
   "attachments": {},
   "cell_type": "markdown",
   "metadata": {},
   "source": [
    "Register the new block (prefect-email)\n",
    "```bash\n",
    "prefect block register -m prefect_email\n",
    "```"
   ]
  },
  {
   "attachments": {},
   "cell_type": "markdown",
   "metadata": {},
   "source": [
    "![Alt text](<images/Cuplikan layar 2023-06-12 015438.png>)"
   ]
  },
  {
   "attachments": {},
   "cell_type": "markdown",
   "metadata": {},
   "source": [
    "![Alt text](<images/Cuplikan layar 2023-06-12 034254.png>)\n",
    "![Alt text](<images/Cuplikan layar 2023-06-12 034439.png>)"
   ]
  },
  {
   "attachments": {},
   "cell_type": "markdown",
   "metadata": {},
   "source": [
    "**Notes**: If there are changes such as input and code in the flow block, it must be redeployed. If changes to the task block are not required, redeploy. This statement is based on experience. When I added the markdown artifact, I didn't redeploy, and the artifact was successfully saved. but when adding a new task block (sending notifications via email) with email input, it needs to be redeployed so that the email input can be modified in the UI."
   ]
  },
  {
   "attachments": {},
   "cell_type": "markdown",
   "metadata": {},
   "source": [
    "the pre-built prefect-email task function is [`email_send_message`](https://prefecthq.github.io/prefect-email/message/#prefect_email.message.email_send_message)"
   ]
  },
  {
   "attachments": {},
   "cell_type": "markdown",
   "metadata": {},
   "source": [
    "### Q6. Prefect Cloud"
   ]
  },
  {
   "attachments": {},
   "cell_type": "markdown",
   "metadata": {},
   "source": [
    "![Alt text](<images/Cuplikan layar 2023-06-12 035825.png>)"
   ]
  },
  {
   "attachments": {},
   "cell_type": "markdown",
   "metadata": {},
   "source": [
    "**Notes**: When you have logged in to the prefect cloud, all activities will automatically point to the prefect cloud, no longer to the prefect local server."
   ]
  },
  {
   "attachments": {},
   "cell_type": "markdown",
   "metadata": {},
   "source": [
    "![Alt text](<images/Cuplikan layar 2023-06-12 051123.png>)"
   ]
  },
  {
   "attachments": {},
   "cell_type": "markdown",
   "metadata": {},
   "source": [
    "In this task I encountered a problem, namely the flow that was running was in a \"Late\" state which was too long (compared to when it was run on a local server), so the automation of sending notifications to my email added a \"cancelling\" condition."
   ]
  },
  {
   "attachments": {},
   "cell_type": "markdown",
   "metadata": {},
   "source": []
  }
 ],
 "metadata": {
  "kernelspec": {
   "display_name": "mlops_env",
   "language": "python",
   "name": "python3"
  },
  "language_info": {
   "codemirror_mode": {
    "name": "ipython",
    "version": 3
   },
   "file_extension": ".py",
   "mimetype": "text/x-python",
   "name": "python",
   "nbconvert_exporter": "python",
   "pygments_lexer": "ipython3",
   "version": "3.10.11"
  },
  "orig_nbformat": 4
 },
 "nbformat": 4,
 "nbformat_minor": 2
}
